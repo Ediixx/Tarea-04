{
 "cells": [
  {
   "attachments": {
    "image.png": {
     "image/png": "[encoded data removed]"
    }
   },
   "cell_type": "markdown",
   "metadata": {},
   "source": [
    "### CONJUNTO DE EJERCICIOS\n",
    "\n",
    "![image.png](attachment:image.png)"
   ]
  },
  {
   "cell_type": "code",
   "execution_count": 2,
   "metadata": {},
   "outputs": [
    {
     "name": "stdout",
     "output_type": "stream",
     "text": [
      "La raíz en el intervalo [0, 1] es aproximadamente 0.58579\n",
      "La raíz en el intervalo [1, 3.2] es aproximadamente 3.00000\n",
      "La raíz en el intervalo [3.2, 4] es aproximadamente 3.41422\n"
     ]
    }
   ],
   "source": [
    "def biseccion(f, a, b, tolerancia=1e-5):\n",
    "    while (b - a) / 2 > tolerancia:\n",
    "        p = (a + b) / 2\n",
    "        if f(p) == 0:\n",
    "            return p\n",
    "        elif f(a) * f(p) < 0:\n",
    "            b = p\n",
    "        else:\n",
    "            a = p\n",
    "    return (a + b) / 2\n",
    "\n",
    "def funcion(x):\n",
    "    return x**3 - 7*x**2 + 14*x - 6\n",
    "\n",
    "intervalos = [(0, 1), (1, 3.2), (3.2, 4)]\n",
    "tolerancia = 1e-5\n",
    "\n",
    "for a, b in intervalos:\n",
    "    raiz = biseccion(funcion, a, b, tolerancia)\n",
    "    print(f\"La raíz en el intervalo [{a}, {b}] es aproximadamente {raiz:.5f}\")"
   ]
  }
 ],
 "metadata": {
  "kernelspec": {
   "display_name": "Python 3",
   "language": "python",
   "name": "python3"
  },
  "language_info": {
   "codemirror_mode": {
    "name": "ipython",
    "version": 3
   },
   "file_extension": ".py",
   "mimetype": "text/x-python",
   "name": "python",
   "nbconvert_exporter": "python",
   "pygments_lexer": "ipython3",
   "version": "3.13.0"
  }
 },
 "nbformat": 4,
 "nbformat_minor": 2
}
